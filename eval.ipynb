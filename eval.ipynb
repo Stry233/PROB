{
 "cells": [
  {
   "cell_type": "markdown",
   "id": "aef023f3-a8f0-4a4d-9126-5111333344c7",
   "metadata": {
    "jp-MarkdownHeadingCollapsed": true
   },
   "source": [
    "# previoius implementation"
   ]
  },
  {
   "cell_type": "code",
   "execution_count": null,
   "id": "4f354f13-6dfe-481f-89f8-aef69df6f1c0",
   "metadata": {},
   "outputs": [],
   "source": [
    "def iou(a, b):\n",
    "    \"\"\"Compute the Intersection-Over-Union of two sets of boxes.\"\"\"\n",
    "    area_a = (a[:, 3] - a[:, 1]) * (a[:, 2] - a[:, 0])\n",
    "    area_b = (b[:, 3] - b[:, 1]) * (b[:, 2] - b[:, 0])\n",
    "\n",
    "    intersection_top_left = torch.max(a[:, None, :2], b[:, :2])\n",
    "    intersection_bottom_right = torch.min(a[:, None, 2:], b[:, 2:])\n",
    "    intersection_area = (intersection_bottom_right - intersection_top_left).clamp(min=0).prod(2)\n",
    "\n",
    "    return intersection_area / (area_a[:, None] + area_b - intersection_area)\n",
    "\n",
    "\n",
    "\n",
    "def get_precision(predictions, ground_truth, unknown=True):\n",
    "    # Compute TP and FP for ensemble predictions of the unknown class\n",
    "    if unknown is not None:\n",
    "        if unknown:\n",
    "            ground_truth = [gt for gt in ground_truth if gt['label_id'] == 80]\n",
    "            predictions = [pred for pred in predictions if pred['label_id'] == 80]\n",
    "        else: \n",
    "            ground_truth = [gt for gt in ground_truth if gt['label_id'] != 80]\n",
    "            predictions = [pred for pred in predictions if pred['label_id'] != 80]\n",
    "    tp, fp = compute_tp_fp(predictions, ground_truth)\n",
    "    \n",
    "    # Calculate precision\n",
    "    precision = tp / (tp + fp) if (tp + fp) > 0 else 0\n",
    "    return precision\n",
    "    \n",
    "\n",
    "def get_recall(predictions, ground_truth, iou_threshold=0.1, unknown=True):\n",
    "    \"\"\"Compute recall for the ensemble predictions.\"\"\"\n",
    "    if unknown is not None:\n",
    "        if unknown:\n",
    "            ground_truth = [gt for gt in ground_truth if gt['label_id'] == 80]\n",
    "            predictions = [pred for pred in predictions if pred['label_id'] == 80]\n",
    "        else: \n",
    "            ground_truth = [gt for gt in ground_truth if gt['label_id'] != 80]\n",
    "            predictions = [pred for pred in predictions if pred['label_id'] != 80]\n",
    "            \n",
    "    tp, fp = compute_tp_fp(predictions, ground_truth, iou_threshold)\n",
    "    fn = len(ground_truth) - tp\n",
    "    \n",
    "    recall = tp / (tp + fn) if (tp + fn) > 0 else 0\n",
    "    \n",
    "    return recall\n"
   ]
  },
  {
   "cell_type": "code",
   "execution_count": 31,
   "id": "029430d5-3b8d-44c8-bb42-ffb5ec3ead94",
   "metadata": {},
   "outputs": [
    {
     "name": "stdout",
     "output_type": "stream",
     "text": [
      "4952\n"
     ]
    }
   ],
   "source": [
    "import os\n",
    "\n",
    "directory_path = \"output/from_dataset/filtered_unknown/SOWODB_backup/\"\n",
    "\n",
    "# List all files in the directory\n",
    "all_files = os.listdir(directory_path)\n",
    "\n",
    "# Filter the files based on the desired suffix\n",
    "files = [f.split(\"_\")[0] for f in all_files if f.endswith(\"t1.pth.txt\")]\n",
    "\n",
    "print(len(files))\n"
   ]
  },
  {
   "cell_type": "code",
   "execution_count": 34,
   "id": "788d9a01-36e8-4e3f-8954-fbeaa6f336b8",
   "metadata": {},
   "outputs": [
    {
     "ename": "AttributeError",
     "evalue": "'NoneType' object has no attribute 'group'",
     "output_type": "error",
     "traceback": [
      "\u001b[0;31m---------------------------------------------------------------------------\u001b[0m",
      "\u001b[0;31mAttributeError\u001b[0m                            Traceback (most recent call last)",
      "Cell \u001b[0;32mIn[34], line 39\u001b[0m\n\u001b[1;32m     35\u001b[0m     \u001b[38;5;28;01mreturn\u001b[39;00m {\u001b[38;5;124m'\u001b[39m\u001b[38;5;124mbbox\u001b[39m\u001b[38;5;124m'\u001b[39m: bbox, \u001b[38;5;124m'\u001b[39m\u001b[38;5;124mlabel\u001b[39m\u001b[38;5;124m'\u001b[39m: label, \u001b[38;5;124m'\u001b[39m\u001b[38;5;124mlabel_id\u001b[39m\u001b[38;5;124m'\u001b[39m: label_id, \u001b[38;5;124m'\u001b[39m\u001b[38;5;124mprob\u001b[39m\u001b[38;5;124m'\u001b[39m: prob}\n\u001b[1;32m     38\u001b[0m \u001b[38;5;66;03m# Parsing the data again\u001b[39;00m\n\u001b[0;32m---> 39\u001b[0m parsed_data \u001b[38;5;241m=\u001b[39m {key: [parse_data_line(line) \u001b[38;5;28;01mfor\u001b[39;00m line \u001b[38;5;129;01min\u001b[39;00m value[:\u001b[38;5;241m-\u001b[39m\u001b[38;5;241m1\u001b[39m]] \u001b[38;5;28;01mfor\u001b[39;00m key, value \u001b[38;5;129;01min\u001b[39;00m data\u001b[38;5;241m.\u001b[39mitems()}\n\u001b[1;32m     40\u001b[0m unknown_recall\u001b[38;5;241m.\u001b[39mappend(get_recall(parsed_data[\u001b[38;5;124m'\u001b[39m\u001b[38;5;124mmodel_1\u001b[39m\u001b[38;5;124m'\u001b[39m], parsed_data[\u001b[38;5;124m'\u001b[39m\u001b[38;5;124mground_truth\u001b[39m\u001b[38;5;124m'\u001b[39m], unknown\u001b[38;5;241m=\u001b[39m\u001b[38;5;28;01mTrue\u001b[39;00m))\n\u001b[1;32m     41\u001b[0m known_precision\u001b[38;5;241m.\u001b[39mappend(get_precision(parsed_data[\u001b[38;5;124m'\u001b[39m\u001b[38;5;124mmodel_1\u001b[39m\u001b[38;5;124m'\u001b[39m], parsed_data[\u001b[38;5;124m'\u001b[39m\u001b[38;5;124mground_truth\u001b[39m\u001b[38;5;124m'\u001b[39m], unknown\u001b[38;5;241m=\u001b[39m\u001b[38;5;28;01mFalse\u001b[39;00m))\n",
      "Cell \u001b[0;32mIn[34], line 39\u001b[0m, in \u001b[0;36m<dictcomp>\u001b[0;34m(.0)\u001b[0m\n\u001b[1;32m     35\u001b[0m     \u001b[38;5;28;01mreturn\u001b[39;00m {\u001b[38;5;124m'\u001b[39m\u001b[38;5;124mbbox\u001b[39m\u001b[38;5;124m'\u001b[39m: bbox, \u001b[38;5;124m'\u001b[39m\u001b[38;5;124mlabel\u001b[39m\u001b[38;5;124m'\u001b[39m: label, \u001b[38;5;124m'\u001b[39m\u001b[38;5;124mlabel_id\u001b[39m\u001b[38;5;124m'\u001b[39m: label_id, \u001b[38;5;124m'\u001b[39m\u001b[38;5;124mprob\u001b[39m\u001b[38;5;124m'\u001b[39m: prob}\n\u001b[1;32m     38\u001b[0m \u001b[38;5;66;03m# Parsing the data again\u001b[39;00m\n\u001b[0;32m---> 39\u001b[0m parsed_data \u001b[38;5;241m=\u001b[39m {key: [parse_data_line(line) \u001b[38;5;28;01mfor\u001b[39;00m line \u001b[38;5;129;01min\u001b[39;00m value[:\u001b[38;5;241m-\u001b[39m\u001b[38;5;241m1\u001b[39m]] \u001b[38;5;28;01mfor\u001b[39;00m key, value \u001b[38;5;129;01min\u001b[39;00m data\u001b[38;5;241m.\u001b[39mitems()}\n\u001b[1;32m     40\u001b[0m unknown_recall\u001b[38;5;241m.\u001b[39mappend(get_recall(parsed_data[\u001b[38;5;124m'\u001b[39m\u001b[38;5;124mmodel_1\u001b[39m\u001b[38;5;124m'\u001b[39m], parsed_data[\u001b[38;5;124m'\u001b[39m\u001b[38;5;124mground_truth\u001b[39m\u001b[38;5;124m'\u001b[39m], unknown\u001b[38;5;241m=\u001b[39m\u001b[38;5;28;01mTrue\u001b[39;00m))\n\u001b[1;32m     41\u001b[0m known_precision\u001b[38;5;241m.\u001b[39mappend(get_precision(parsed_data[\u001b[38;5;124m'\u001b[39m\u001b[38;5;124mmodel_1\u001b[39m\u001b[38;5;124m'\u001b[39m], parsed_data[\u001b[38;5;124m'\u001b[39m\u001b[38;5;124mground_truth\u001b[39m\u001b[38;5;124m'\u001b[39m], unknown\u001b[38;5;241m=\u001b[39m\u001b[38;5;28;01mFalse\u001b[39;00m))\n",
      "Cell \u001b[0;32mIn[34], line 39\u001b[0m, in \u001b[0;36m<listcomp>\u001b[0;34m(.0)\u001b[0m\n\u001b[1;32m     35\u001b[0m     \u001b[38;5;28;01mreturn\u001b[39;00m {\u001b[38;5;124m'\u001b[39m\u001b[38;5;124mbbox\u001b[39m\u001b[38;5;124m'\u001b[39m: bbox, \u001b[38;5;124m'\u001b[39m\u001b[38;5;124mlabel\u001b[39m\u001b[38;5;124m'\u001b[39m: label, \u001b[38;5;124m'\u001b[39m\u001b[38;5;124mlabel_id\u001b[39m\u001b[38;5;124m'\u001b[39m: label_id, \u001b[38;5;124m'\u001b[39m\u001b[38;5;124mprob\u001b[39m\u001b[38;5;124m'\u001b[39m: prob}\n\u001b[1;32m     38\u001b[0m \u001b[38;5;66;03m# Parsing the data again\u001b[39;00m\n\u001b[0;32m---> 39\u001b[0m parsed_data \u001b[38;5;241m=\u001b[39m {key: [\u001b[43mparse_data_line\u001b[49m\u001b[43m(\u001b[49m\u001b[43mline\u001b[49m\u001b[43m)\u001b[49m \u001b[38;5;28;01mfor\u001b[39;00m line \u001b[38;5;129;01min\u001b[39;00m value[:\u001b[38;5;241m-\u001b[39m\u001b[38;5;241m1\u001b[39m]] \u001b[38;5;28;01mfor\u001b[39;00m key, value \u001b[38;5;129;01min\u001b[39;00m data\u001b[38;5;241m.\u001b[39mitems()}\n\u001b[1;32m     40\u001b[0m unknown_recall\u001b[38;5;241m.\u001b[39mappend(get_recall(parsed_data[\u001b[38;5;124m'\u001b[39m\u001b[38;5;124mmodel_1\u001b[39m\u001b[38;5;124m'\u001b[39m], parsed_data[\u001b[38;5;124m'\u001b[39m\u001b[38;5;124mground_truth\u001b[39m\u001b[38;5;124m'\u001b[39m], unknown\u001b[38;5;241m=\u001b[39m\u001b[38;5;28;01mTrue\u001b[39;00m))\n\u001b[1;32m     41\u001b[0m known_precision\u001b[38;5;241m.\u001b[39mappend(get_precision(parsed_data[\u001b[38;5;124m'\u001b[39m\u001b[38;5;124mmodel_1\u001b[39m\u001b[38;5;124m'\u001b[39m], parsed_data[\u001b[38;5;124m'\u001b[39m\u001b[38;5;124mground_truth\u001b[39m\u001b[38;5;124m'\u001b[39m], unknown\u001b[38;5;241m=\u001b[39m\u001b[38;5;28;01mFalse\u001b[39;00m))\n",
      "Cell \u001b[0;32mIn[34], line 31\u001b[0m, in \u001b[0;36mparse_data_line\u001b[0;34m(line)\u001b[0m\n\u001b[1;32m     29\u001b[0m \u001b[38;5;28;01mdef\u001b[39;00m \u001b[38;5;21mparse_data_line\u001b[39m(line):\n\u001b[1;32m     30\u001b[0m     \u001b[38;5;124;03m\"\"\"Parse a line from the data files to extract bounding box, label, ID, and probability.\"\"\"\u001b[39;00m\n\u001b[0;32m---> 31\u001b[0m     bbox \u001b[38;5;241m=\u001b[39m parse_bbox(\u001b[43mre\u001b[49m\u001b[38;5;241;43m.\u001b[39;49m\u001b[43msearch\u001b[49m\u001b[43m(\u001b[49m\u001b[38;5;124;43mr\u001b[39;49m\u001b[38;5;124;43m'\u001b[39;49m\u001b[38;5;124;43mtensor\u001b[39;49m\u001b[38;5;124;43m\\\u001b[39;49m\u001b[38;5;124;43m((.*?)\u001b[39;49m\u001b[38;5;124;43m\\\u001b[39;49m\u001b[38;5;124;43m)\u001b[39;49m\u001b[38;5;124;43m'\u001b[39;49m\u001b[43m,\u001b[49m\u001b[43m \u001b[49m\u001b[43mline\u001b[49m\u001b[43m)\u001b[49m\u001b[38;5;241;43m.\u001b[39;49m\u001b[43mgroup\u001b[49m(\u001b[38;5;241m0\u001b[39m))\n\u001b[1;32m     32\u001b[0m     label \u001b[38;5;241m=\u001b[39m re\u001b[38;5;241m.\u001b[39msearch(\u001b[38;5;124mr\u001b[39m\u001b[38;5;124m'\u001b[39m\u001b[38;5;124mLABEL: (.*?)(?: \u001b[39m\u001b[38;5;124m\\\u001b[39m\u001b[38;5;124m(|$)\u001b[39m\u001b[38;5;124m'\u001b[39m, line)\u001b[38;5;241m.\u001b[39mgroup(\u001b[38;5;241m1\u001b[39m)\n\u001b[1;32m     33\u001b[0m     label_id \u001b[38;5;241m=\u001b[39m \u001b[38;5;28mint\u001b[39m(re\u001b[38;5;241m.\u001b[39msearch(\u001b[38;5;124mr\u001b[39m\u001b[38;5;124m'\u001b[39m\u001b[38;5;124mID: (\u001b[39m\u001b[38;5;124m\\\u001b[39m\u001b[38;5;124md+)\u001b[39m\u001b[38;5;124m'\u001b[39m, line)\u001b[38;5;241m.\u001b[39mgroup(\u001b[38;5;241m1\u001b[39m))\n",
      "\u001b[0;31mAttributeError\u001b[0m: 'NoneType' object has no attribute 'group'"
     ]
    }
   ],
   "source": [
    "unknown_recall = []\n",
    "known_precision = []\n",
    "general_recall = []\n",
    "general_precision = []\n",
    "\n",
    "for filename in files:\n",
    "    filepaths = {\n",
    "    \"ground_truth\": f\"output/from_dataset/filtered_unknown/SOWODB_backup/{filename}_gt.txt\",\n",
    "    \"model_1\": f\"output/from_dataset/filtered_unknown/SOWODB_backup/{filename}_t1.pth.txt\",\n",
    "    }\n",
    "    # Storing the data from each file in a dictionary\n",
    "    data = {}\n",
    "    for key, filepath in filepaths.items():\n",
    "        with open(filepath, \"r\") as file:\n",
    "            data[key] = file.readlines()\n",
    "    \n",
    "    h, w = map(int, data[\"ground_truth\"][-1].strip().split(\": \")[1].split(\", \"))\n",
    "    \n",
    "    # Displaying the first few lines of each file to understand the data format\n",
    "    sample_data = {key: value[:5] for key, value in data.items()}\n",
    "    import re\n",
    "    import torch\n",
    "    \n",
    "    def parse_bbox(tensor_string):\n",
    "        \"\"\"Parse tensor string to extract bounding box coordinates.\"\"\"\n",
    "        coords = list(map(float, re.findall(r'([-+]?\\d*\\.\\d+e[+-]?\\d+|[-+]?\\d*\\.\\d+|[-+]?\\d+)', tensor_string)))\n",
    "        return torch.tensor(coords)\n",
    "    \n",
    "    def parse_data_line(line):\n",
    "        \"\"\"Parse a line from the data files to extract bounding box, label, ID, and probability.\"\"\"\n",
    "        bbox = parse_bbox(re.search(r'tensor\\((.*?)\\)', line).group(0))\n",
    "        label = re.search(r'LABEL: (.*?)(?: \\(|$)', line).group(1)\n",
    "        label_id = int(re.search(r'ID: (\\d+)', line).group(1))\n",
    "        prob = float(re. search(r'PROB: (.+)', line).group(1))\n",
    "        return {'bbox': bbox, 'label': label, 'label_id': label_id, 'prob': prob}\n",
    "    \n",
    "    \n",
    "    # Parsing the data again\n",
    "    parsed_data = {key: [parse_data_line(line) for line in value[:-1]] for key, value in data.items()}\n",
    "    unknown_recall.append(get_recall(parsed_data['model_1'], parsed_data['ground_truth'], unknown=True))\n",
    "    known_precision.append(get_precision(parsed_data['model_1'], parsed_data['ground_truth'], unknown=False))\n",
    "    # general_recall.append(get_recall(parsed_data['model_1'], parsed_data['ground_truth'], unknown=None))\n",
    "    # general_precision.append(get_precision(parsed_data['model_1'], parsed_data['ground_truth'], unknown=None))\n"
   ]
  },
  {
   "cell_type": "code",
   "execution_count": 35,
   "id": "8df05d26-93f6-4e3e-ba0a-1a52ca32547a",
   "metadata": {},
   "outputs": [
    {
     "data": {
      "text/plain": [
       "{'ground_truth': ['BBOX: tensor([114.5540, 729.9828, 362.4413, 990.8251]), LABEL: dog (ID: 8), PROB: 1.0\\n',\n",
       "  'BBOX: tensor([ 632.8638,  703.7109,  790.6103, 1000.2078]), LABEL: unknown (ID: 80), PROB: 1.0\\n',\n",
       "  'BBOX: tensor([118.3099, 439.1156, 144.6009, 506.6718]), LABEL: unknown (ID: 80), PROB: 1.0\\n',\n",
       "  'BBOX: tensor([330.5164, 576.1047, 362.4413, 681.1922]), LABEL: unknown (ID: 80), PROB: 1.0\\n',\n",
       "  'BBOX: tensor([ 176.5258,  495.4125,  800.0000, 1182.2344]), LABEL: unknown (ID: 80), PROB: 1.0\\n',\n",
       "  'BBOX: tensor([210.3286, 489.7828, 366.1972, 658.6734]), LABEL: unknown (ID: 80), PROB: 1.0\\n',\n",
       "  'BBOX: tensor([202.8169, 395.9547, 292.9577, 534.8204]), LABEL: person (ID: 18), PROB: 1.0\\n',\n",
       "  'BBOX: tensor([561.5023, 482.2766, 584.0375, 499.1656]), LABEL: unknown (ID: 80), PROB: 1.0\\n',\n",
       "  'BBOX: tensor([550.2347, 425.9797, 593.4272, 510.4250]), LABEL: unknown (ID: 80), PROB: 1.0\\n',\n",
       "  'BBOX: tensor([582.1596, 469.1406, 629.1080, 517.9312]), LABEL: unknown (ID: 80), PROB: 1.0\\n',\n",
       "  'BBOX: tensor([294.8357, 349.0406, 345.5399, 499.1656]), LABEL: unknown (ID: 80), PROB: 1.0\\n',\n",
       "  'BBOX: tensor([632.8639, 636.1547, 657.2770, 683.0687]), LABEL: unknown (ID: 80), PROB: 1.0\\n',\n",
       "  'BBOX: tensor([364.3192, 857.5891, 655.3990, 998.3312]), LABEL: unknown (ID: 80), PROB: 1.0\\n',\n",
       "  'BBOX: tensor([552.1127, 656.7968, 612.2065, 699.9578]), LABEL: unknown (ID: 80), PROB: 1.0\\n',\n",
       "  'BBOX: tensor([ 84.5070, 459.7578, 255.3990, 606.1297]), LABEL: unknown (ID: 80), PROB: 1.0\\n',\n",
       "  'BBOX: tensor([ 97.6526, 435.3625, 125.8216, 502.9187]), LABEL: unknown (ID: 80), PROB: 1.0\\n',\n",
       "  'BBOX: tensor([ 497.6525, 1013.3438,  582.1596, 1150.3328]), LABEL: unknown (ID: 80), PROB: 1.0\\n',\n",
       "  'BBOX: tensor([324.8826, 356.5469, 362.4413, 440.9922]), LABEL: unknown (ID: 80), PROB: 1.0\\n',\n",
       "  'BBOX: tensor([338.0282, 189.5328, 691.0798, 836.9468]), LABEL: person (ID: 18), PROB: 1.0\\n',\n",
       "  'BBOX: tensor([ 553.9906,  990.8250,  696.7136, 1191.6171]), LABEL: unknown (ID: 80), PROB: 1.0\\n',\n",
       "  'BBOX: tensor([244.1315, 517.9313, 276.0563, 532.9437]), LABEL: unknown (ID: 80), PROB: 1.0\\n',\n",
       "  'BBOX: tensor([644.1313, 709.3406, 677.9343, 728.1063]), LABEL: unknown (ID: 80), PROB: 1.0\\n',\n",
       "  'BBOX: tensor([313.6150, 538.5734, 353.0516, 557.3391]), LABEL: unknown (ID: 80), PROB: 1.0\\n',\n",
       "  'BBOX: tensor([291.0798, 197.0391, 413.1455, 474.7703]), LABEL: unknown (ID: 80), PROB: 1.0\\n',\n",
       "  'BBOX: tensor([  0.0000, 514.1781, 185.9155, 741.2422]), LABEL: unknown (ID: 80), PROB: 1.0\\n',\n",
       "  'IMAGE_INFO: 1201, 800\\n'],\n",
       " 'model_1': ['BBOX: tensor([561.3162,   1.0455, 634.3266,  23.7536]), LABEL: unknown (ID: 80), PROB: 0.9992606043815613\\n',\n",
       "  'BBOX: tensor([256.7606,  -0.9830, 331.9030,   4.8352]), LABEL: unknown (ID: 80), PROB: 0.9990336894989014\\n',\n",
       "  'BBOX: tensor([215.9359,  24.0807, 302.8773, 106.9033]), LABEL: unknown (ID: 80), PROB: 0.9989965558052063\\n',\n",
       "  'BBOX: tensor([ -6.1698,  46.2215,  82.7785, 140.2849]), LABEL: unknown (ID: 80), PROB: 0.9989960789680481\\n',\n",
       "  'BBOX: tensor([467.4370,  18.3201, 553.4138, 102.4612]), LABEL: unknown (ID: 80), PROB: 0.9989956021308899\\n',\n",
       "  'BBOX: tensor([-40.2216,  93.0211,  63.5332, 218.1079]), LABEL: unknown (ID: 80), PROB: 0.9989839196205139\\n',\n",
       "  'BBOX: tensor([389.4550,  -0.5045, 469.5471,   3.8447]), LABEL: unknown (ID: 80), PROB: 0.9989462494850159\\n',\n",
       "  'BBOX: tensor([ 160.6137,  866.3125,  618.4410, 1221.5449]), LABEL: unknown (ID: 80), PROB: 0.9986757636070251\\n',\n",
       "  'BBOX: tensor([ 355.6070, 1035.1382,  513.0566, 1155.8784]), LABEL: unknown (ID: 80), PROB: 0.9986149072647095\\n',\n",
       "  'BBOX: tensor([345.6749,  27.5443, 495.2460,  81.9575]), LABEL: unknown (ID: 80), PROB: 0.9984409213066101\\n',\n",
       "  'BBOX: tensor([ -35.1752,  464.9973,   76.5286, 1317.8802]), LABEL: unknown (ID: 80), PROB: 0.9983761310577393\\n',\n",
       "  'BBOX: tensor([573.9900,  13.9525, 723.1715,  48.9584]), LABEL: unknown (ID: 80), PROB: 0.9982561469078064\\n',\n",
       "  'BBOX: tensor([107.1660,   0.8849, 233.7303,  15.2156]), LABEL: unknown (ID: 80), PROB: 0.9981738328933716\\n',\n",
       "  'BBOX: tensor([ -40.9338, 1085.3611,   71.8473, 1191.9307]), LABEL: unknown (ID: 80), PROB: 0.997983455657959\\n',\n",
       "  'BBOX: tensor([  59.2609,  617.8356,  331.0444, 1334.9629]), LABEL: unknown (ID: 80), PROB: 0.99796462059021\\n',\n",
       "  'BBOX: tensor([ 431.8815,  802.2947,  575.8986, 1017.6746]), LABEL: unknown (ID: 80), PROB: 0.9976468682289124\\n',\n",
       "  'BBOX: tensor([ 352.7830, 1169.4041,  620.8549, 1200.6130]), LABEL: unknown (ID: 80), PROB: 0.9972853660583496\\n',\n",
       "  'BBOX: tensor([295.6059, 376.2285, 347.6716, 494.2899]), LABEL: unknown (ID: 80), PROB: 0.9684399962425232\\n',\n",
       "  'BBOX: tensor([202.8971, 398.0214, 285.9326, 517.6238]), LABEL: unknown (ID: 80), PROB: 0.9679982662200928\\n',\n",
       "  'BBOX: tensor([ 705.6887,  442.1741,  803.3073, 1156.8086]), LABEL: unknown (ID: 80), PROB: 0.9354406595230103\\n',\n",
       "  'BBOX: tensor([ 763.8166,  329.4477,  801.4908, 1177.4446]), LABEL: unknown (ID: 80), PROB: 0.9335050582885742\\n',\n",
       "  '<<<<<<< HEAD\\n',\n",
       "  'BBOX: tensor([ 605.4763, 1128.1965,  797.3272, 1204.1521]), LABEL: unknown (ID: 80), PROB: 0.9154607653617859\\n',\n",
       "  'BBOX: tensor([331.3566, 180.4549, 693.5103, 827.8361]), LABEL: person (ID: 18), PROB: 0.9128665328025818\\n',\n",
       "  'BBOX: tensor([110.6423, 726.1158, 366.2641, 992.6505]), LABEL: dog (ID: 8), PROB: 0.8723682165145874\\n',\n",
       "  'BBOX: tensor([ 746.7389,  911.5001,  802.9599, 1185.9404]), LABEL: unknown (ID: 80), PROB: 0.8624326586723328\\n',\n",
       "  '=======\\n',\n",
       "  'BBOX: tensor([331.3566, 180.4549, 693.5103, 827.8361]), LABEL: person (ID: 18), PROB: 0.9128665328025818\\n',\n",
       "  'BBOX: tensor([110.6423, 726.1158, 366.2641, 992.6505]), LABEL: dog (ID: 8), PROB: 0.8723682165145874\\n',\n",
       "  'BBOX: tensor([ 645.5425, 1008.4184,  805.2426, 1204.6472]), LABEL: unknown (ID: 80), PROB: 0.768994152545929\\n',\n",
       "  'BBOX: tensor([ 746.6568, 1011.6063,  801.2689, 1197.0959]), LABEL: unknown (ID: 80), PROB: 0.7541286945343018\\n',\n",
       "  '>>>>>>> 9ca6bb8af359c87ec4cfb926402695ee7b32ab77\\n',\n",
       "  'IMAGE_INFO: 1201, 800\\n']}"
      ]
     },
     "execution_count": 35,
     "metadata": {},
     "output_type": "execute_result"
    }
   ],
   "source": [
    "data"
   ]
  },
  {
   "cell_type": "code",
   "execution_count": 29,
   "id": "30a4d5da-76d2-4fca-a551-a7026377b2aa",
   "metadata": {},
   "outputs": [
    {
     "name": "stdout",
     "output_type": "stream",
     "text": [
      "0.14416783837650218\n",
      "0.5043838308074982\n",
      "0.36729391147968204\n",
      "0.2782444016626013\n"
     ]
    }
   ],
   "source": [
    "def mean(lst): \n",
    "    return sum(lst) / len(lst) \n",
    " \n",
    "# Driver Code \n",
    "print(mean(unknown_recall))\n",
    "print(mean(known_precision))\n",
    "print(mean(general_recall))\n",
    "print(mean(general_precision))"
   ]
  },
  {
   "cell_type": "markdown",
   "id": "2d2e9640-b559-4dbe-b6bc-6c289ec2070d",
   "metadata": {},
   "source": [
    "# evaluation"
   ]
  },
  {
   "cell_type": "code",
   "execution_count": 70,
   "id": "744ecc88-5ee8-4c75-ad79-063027d0aed7",
   "metadata": {},
   "outputs": [],
   "source": [
    "import pandas as pd\n",
    "ground_truth = pd.read_csv(\"./csv/bbox_data_scaled_gt.csv\")\n",
    "prob_prediction = pd.read_csv(\"./csv/bbox_data_scaled.csv\")\n",
    "custom_01_prediction = pd.read_csv(\"./csv/bbox_epistemic_prediction_0.01.csv\")\n",
    "custom_03_prediction = pd.read_csv(\"./csv/bbox_epistemic_prediction_0.03.csv\")\n",
    "custom_05_prediction = pd.read_csv(\"./csv/bbox_epistemic_prediction_0.05.csv\")"
   ]
  },
  {
   "cell_type": "code",
   "execution_count": 86,
   "id": "eafc674b-79b3-4474-9501-202c29c0f6f6",
   "metadata": {},
   "outputs": [],
   "source": [
    "gt_data = ground_truth[ground_truth['label']!='unknown']\n",
    "pred_data = custom_01_prediction[custom_01_prediction['label']!='unknown']"
   ]
  },
  {
   "cell_type": "code",
   "execution_count": 87,
   "id": "f348755e-f4f3-43c7-869f-ec7d5f616b21",
   "metadata": {},
   "outputs": [
    {
     "name": "stdout",
     "output_type": "stream",
     "text": [
      "mAP@50: 0.29986754670427895\n"
     ]
    }
   ],
   "source": [
    "import pandas as pd\n",
    "import numpy as np\n",
    "from collections import defaultdict\n",
    "\n",
    "# 2. Calculate IoU\n",
    "def compute_iou(box1, box2):\n",
    "    x1_max, x1_min, y1_max, y1_min = box1\n",
    "    x2_max, x2_min, y2_max, y2_min = box2\n",
    "\n",
    "    intersect_min_x = max(x1_min, x2_min)\n",
    "    intersect_min_y = max(y1_min, y2_min)\n",
    "    intersect_max_x = min(x1_max, x2_max)\n",
    "    intersect_max_y = min(y1_max, y2_max)\n",
    "\n",
    "    intersect_area = max(0, intersect_max_x - intersect_min_x + 1) * max(0, intersect_max_y - intersect_min_y + 1)\n",
    "    box1_area = (x1_max - x1_min + 1) * (y1_max - y1_min + 1)\n",
    "    box2_area = (x2_max - x2_min + 1) * (y2_max - y2_min + 1)\n",
    "\n",
    "    iou = intersect_area / float(box1_area + box2_area - intersect_area)\n",
    "    return iou\n",
    "\n",
    "# 3. Precision and Recall\n",
    "tps = defaultdict(list)  # True positives per class\n",
    "fps = defaultdict(list)  # False positives per class\n",
    "num_gts = defaultdict(int)  # Number of ground truths per class\n",
    "\n",
    "for _, gt in gt_data.iterrows():\n",
    "    num_gts[gt['label']] += 1\n",
    "\n",
    "for _, pred in pred_data.iterrows():\n",
    "    matched = False\n",
    "    for _, gt in gt_data[gt_data['img_name'] == pred['img_name']].iterrows():\n",
    "        if compute_iou((gt['x_max'], gt['x_min'], gt['y_max'], gt['y_min']),\n",
    "                       (pred['x_max'], pred['x_min'], pred['y_max'], pred['y_min'])) > 0.0001 \\\n",
    "            and gt['label'] == pred['label']:\n",
    "            matched = True\n",
    "            break\n",
    "    if matched:\n",
    "        tps[pred['label']].append(1)\n",
    "        fps[pred['label']].append(0)\n",
    "    else:\n",
    "        tps[pred['label']].append(0)\n",
    "        fps[pred['label']].append(1)\n",
    "\n",
    "# 4. Average Precision\n",
    "aps = {}  # Average precision per class\n",
    "\n",
    "for label in tps.keys():\n",
    "    tp = tps[label]\n",
    "    fp = fps[label]\n",
    "    tp_cumsum = np.cumsum(tp).astype(dtype=np.float32)\n",
    "    fp_cumsum = np.cumsum(fp).astype(dtype=np.float32)\n",
    "\n",
    "    recalls = tp_cumsum / num_gts[label]\n",
    "    precisions = tp_cumsum / (tp_cumsum + fp_cumsum)\n",
    "\n",
    "    # A trick to get the area under the curve for the precision-recall curve\n",
    "    mrec = np.concatenate(([0.], recalls, [1.]))\n",
    "    mpre = np.concatenate(([0.], precisions, [0.]))\n",
    "\n",
    "    for i in range(mpre.size - 1, 0, -1):\n",
    "        mpre[i - 1] = max(mpre[i - 1], mpre[i])\n",
    "    idx = np.where(mrec[1:] != mrec[:-1])[0]\n",
    "    aps[label] = np.sum((mrec[idx + 1] - mrec[idx]) * mpre[idx + 1])\n",
    "\n",
    "# 5. Mean Average Precision\n",
    "map_50 = np.mean(list(aps.values()))\n",
    "\n",
    "print(f\"mAP@50: {map_50}\")\n"
   ]
  },
  {
   "cell_type": "code",
   "execution_count": 74,
   "id": "e7ab9dda-4e4e-4e84-a34c-3b006078349d",
   "metadata": {},
   "outputs": [],
   "source": [
    "# mAP@50: 0.2958\n",
    "# mAP@50: 0.29986754670427895\n",
    "# mAP@50: 0.29986754670427895"
   ]
  },
  {
   "cell_type": "code",
   "execution_count": null,
   "id": "92cf2bec-c505-40a5-99db-a727f1e2e20a",
   "metadata": {},
   "outputs": [],
   "source": []
  }
 ],
 "metadata": {
  "kernelspec": {
   "display_name": "prob",
   "language": "python",
   "name": "prob"
  },
  "language_info": {
   "codemirror_mode": {
    "name": "ipython",
    "version": 3
   },
   "file_extension": ".py",
   "mimetype": "text/x-python",
   "name": "python",
   "nbconvert_exporter": "python",
   "pygments_lexer": "ipython3",
   "version": "3.10.4"
  }
 },
 "nbformat": 4,
 "nbformat_minor": 5
}
