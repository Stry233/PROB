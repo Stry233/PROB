{
 "cells": [
  {
   "cell_type": "code",
   "execution_count": 26,
   "id": "368bb32c-19bf-4d3b-ac78-32a856de497f",
   "metadata": {},
   "outputs": [],
   "source": [
    "def iou(a, b):\n",
    "    \"\"\"Compute the Intersection-Over-Union of two sets of boxes.\"\"\"\n",
    "    area_a = (a[:, 3] - a[:, 1]) * (a[:, 2] - a[:, 0])\n",
    "    area_b = (b[:, 3] - b[:, 1]) * (b[:, 2] - b[:, 0])\n",
    "\n",
    "    intersection_top_left = torch.max(a[:, None, :2], b[:, :2])\n",
    "    intersection_bottom_right = torch.min(a[:, None, 2:], b[:, 2:])\n",
    "    intersection_area = (intersection_bottom_right - intersection_top_left).clamp(min=0).prod(2)\n",
    "\n",
    "    return intersection_area / (area_a[:, None] + area_b - intersection_area)\n",
    "\n",
    "def compute_tp_fp(predictions, ground_truth, iou_threshold=0.5):\n",
    "    \"\"\"Compute the number of true positives and false positives.\"\"\"\n",
    "    tp = 0\n",
    "    fp = 0\n",
    "    gt_flags = [0] * len(ground_truth)  # Flags to mark if a ground truth box is matched\n",
    "\n",
    "    for pred in predictions:\n",
    "        max_iou = 0\n",
    "        max_idx = -1\n",
    "        for idx, gt in enumerate(ground_truth):\n",
    "            curr_iou = iou(pred['bbox'].unsqueeze(0), gt['bbox'].unsqueeze(0)).item()\n",
    "            if curr_iou > max_iou:\n",
    "                max_iou = curr_iou\n",
    "                max_idx = idx\n",
    "\n",
    "        if max_iou >= iou_threshold:\n",
    "            if gt_flags[max_idx] == 0:  # If this ground truth hasn't been matched before\n",
    "                tp += 1\n",
    "                gt_flags[max_idx] = 1\n",
    "            else:\n",
    "                fp += 1  # This ground truth has been matched before, so it's a false positive\n",
    "        else:\n",
    "            fp += 1\n",
    "\n",
    "    return tp, fp\n",
    "\n",
    "def get_precision(predictions, ground_truth, unknown=True):\n",
    "    # Compute TP and FP for ensemble predictions of the unknown class\n",
    "    if unknown is not None:\n",
    "        if unknown:\n",
    "            ground_truth = [gt for gt in ground_truth if gt['label_id'] == 80]\n",
    "            predictions = [pred for pred in predictions if pred['label_id'] == 80]\n",
    "        else: \n",
    "            ground_truth = [gt for gt in ground_truth if gt['label_id'] != 80]\n",
    "            predictions = [pred for pred in predictions if pred['label_id'] != 80]\n",
    "    tp, fp = compute_tp_fp(predictions, ground_truth)\n",
    "    \n",
    "    # Calculate precision\n",
    "    precision = tp / (tp + fp) if (tp + fp) > 0 else 0\n",
    "    return precision\n",
    "    \n",
    "\n",
    "def get_recall(predictions, ground_truth, iou_threshold=0.1, unknown=True):\n",
    "    \"\"\"Compute recall for the ensemble predictions.\"\"\"\n",
    "    if unknown is not None:\n",
    "        if unknown:\n",
    "            ground_truth = [gt for gt in ground_truth if gt['label_id'] == 80]\n",
    "            predictions = [pred for pred in predictions if pred['label_id'] == 80]\n",
    "        else: \n",
    "            ground_truth = [gt for gt in ground_truth if gt['label_id'] != 80]\n",
    "            predictions = [pred for pred in predictions if pred['label_id'] != 80]\n",
    "            \n",
    "    tp, fp = compute_tp_fp(predictions, ground_truth, iou_threshold)\n",
    "    fn = len(ground_truth) - tp\n",
    "    \n",
    "    recall = tp / (tp + fn) if (tp + fn) > 0 else 0\n",
    "    \n",
    "    return recall\n"
   ]
  },
  {
   "cell_type": "code",
   "execution_count": 27,
   "id": "029430d5-3b8d-44c8-bb42-ffb5ec3ead94",
   "metadata": {},
   "outputs": [
    {
     "name": "stdout",
     "output_type": "stream",
     "text": [
      "4952\n"
     ]
    }
   ],
   "source": [
    "import os\n",
    "\n",
    "directory_path = \"output/from_dataset/filtered_unknown/SOWODB/\"\n",
    "\n",
    "# List all files in the directory\n",
    "all_files = os.listdir(directory_path)\n",
    "\n",
    "# Filter the files based on the desired suffix\n",
    "files = [f.split(\"_\")[0] for f in all_files if f.endswith(\"t1.pth.txt\")]\n",
    "\n",
    "print(len(files))\n"
   ]
  },
  {
   "cell_type": "code",
   "execution_count": 28,
   "id": "788d9a01-36e8-4e3f-8954-fbeaa6f336b8",
   "metadata": {},
   "outputs": [],
   "source": [
    "unknown_recall = []\n",
    "known_precision = []\n",
    "general_recall = []\n",
    "general_precision = []\n",
    "\n",
    "for filename in files:\n",
    "    filepaths = {\n",
    "    \"ground_truth\": f\"output/from_dataset/filtered_unknown/SOWODB/{filename}_gt.txt\",\n",
    "    \"model_1\": f\"output/from_dataset/filtered_unknown/SOWODB/{filename}_t1.pth.txt\",\n",
    "    }\n",
    "    # Storing the data from each file in a dictionary\n",
    "    data = {}\n",
    "    for key, filepath in filepaths.items():\n",
    "        with open(filepath, \"r\") as file:\n",
    "            data[key] = file.readlines()\n",
    "    \n",
    "    h, w = map(int, data[\"ground_truth\"][-1].strip().split(\": \")[1].split(\", \"))\n",
    "    \n",
    "    # Displaying the first few lines of each file to understand the data format\n",
    "    sample_data = {key: value[:5] for key, value in data.items()}\n",
    "    import re\n",
    "    import torch\n",
    "    \n",
    "    def parse_bbox(tensor_string):\n",
    "        \"\"\"Parse tensor string to extract bounding box coordinates.\"\"\"\n",
    "        coords = list(map(float, re.findall(r'([-+]?\\d*\\.\\d+e[+-]?\\d+|[-+]?\\d*\\.\\d+|[-+]?\\d+)', tensor_string)))\n",
    "        return torch.tensor(coords)\n",
    "    \n",
    "    def parse_data_line(line):\n",
    "        \"\"\"Parse a line from the data files to extract bounding box, label, ID, and probability.\"\"\"\n",
    "        bbox = parse_bbox(re.search(r'tensor\\((.*?)\\)', line).group(0))\n",
    "        label = re.search(r'LABEL: (.*?)(?: \\(|$)', line).group(1)\n",
    "        label_id = int(re.search(r'ID: (\\d+)', line).group(1))\n",
    "        prob = float(re.search(r'PROB: (.+)', line).group(1))\n",
    "        return {'bbox': bbox, 'label': label, 'label_id': label_id, 'prob': prob}\n",
    "    \n",
    "    \n",
    "    # Parsing the data again\n",
    "    parsed_data = {key: [parse_data_line(line) for line in value[:-1]] for key, value in data.items()}\n",
    "    unknown_recall.append(get_recall(parsed_data['model_1'], parsed_data['ground_truth'], unknown=True))\n",
    "    known_precision.append(get_precision(parsed_data['model_1'], parsed_data['ground_truth'], unknown=False))\n",
    "    # general_recall.append(get_recall(parsed_data['model_1'], parsed_data['ground_truth'], unknown=None))\n",
    "    # general_precision.append(get_precision(parsed_data['model_1'], parsed_data['ground_truth'], unknown=None))\n"
   ]
  },
  {
   "cell_type": "code",
   "execution_count": 29,
   "id": "30a4d5da-76d2-4fca-a551-a7026377b2aa",
   "metadata": {},
   "outputs": [
    {
     "name": "stdout",
     "output_type": "stream",
     "text": [
      "0.14416783837650218\n",
      "0.5043838308074982\n",
      "0.36729391147968204\n",
      "0.2782444016626013\n"
     ]
    }
   ],
   "source": [
    "def mean(lst): \n",
    "    return sum(lst) / len(lst) \n",
    " \n",
    "# Driver Code \n",
    "print(mean(unknown_recall))\n",
    "print(mean(known_precision))\n",
    "print(mean(general_recall))\n",
    "print(mean(general_precision))"
   ]
  },
  {
   "cell_type": "code",
   "execution_count": null,
   "id": "744ecc88-5ee8-4c75-ad79-063027d0aed7",
   "metadata": {},
   "outputs": [],
   "source": []
  }
 ],
 "metadata": {
  "kernelspec": {
   "display_name": "prob",
   "language": "python",
   "name": "prob"
  },
  "language_info": {
   "codemirror_mode": {
    "name": "ipython",
    "version": 3
   },
   "file_extension": ".py",
   "mimetype": "text/x-python",
   "name": "python",
   "nbconvert_exporter": "python",
   "pygments_lexer": "ipython3",
   "version": "3.10.4"
  }
 },
 "nbformat": 4,
 "nbformat_minor": 5
}
