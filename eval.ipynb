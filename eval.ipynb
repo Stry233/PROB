{
 "cells": [
  {
   "cell_type": "markdown",
   "id": "aef023f3-a8f0-4a4d-9126-5111333344c7",
   "metadata": {
    "jp-MarkdownHeadingCollapsed": true
   },
   "source": [
    "# previoius implementation"
   ]
  },
  {
   "cell_type": "code",
   "execution_count": null,
   "id": "4f354f13-6dfe-481f-89f8-aef69df6f1c0",
   "metadata": {},
   "outputs": [],
   "source": [
    "def iou(a, b):\n",
    "    \"\"\"Compute the Intersection-Over-Union of two sets of boxes.\"\"\"\n",
    "    area_a = (a[:, 3] - a[:, 1]) * (a[:, 2] - a[:, 0])\n",
    "    area_b = (b[:, 3] - b[:, 1]) * (b[:, 2] - b[:, 0])\n",
    "\n",
    "    intersection_top_left = torch.max(a[:, None, :2], b[:, :2])\n",
    "    intersection_bottom_right = torch.min(a[:, None, 2:], b[:, 2:])\n",
    "    intersection_area = (intersection_bottom_right - intersection_top_left).clamp(min=0).prod(2)\n",
    "\n",
    "    return intersection_area / (area_a[:, None] + area_b - intersection_area)\n",
    "\n",
    "\n",
    "\n",
    "def get_precision(predictions, ground_truth, unknown=True):\n",
    "    # Compute TP and FP for ensemble predictions of the unknown class\n",
    "    if unknown is not None:\n",
    "        if unknown:\n",
    "            ground_truth = [gt for gt in ground_truth if gt['label_id'] == 80]\n",
    "            predictions = [pred for pred in predictions if pred['label_id'] == 80]\n",
    "        else: \n",
    "            ground_truth = [gt for gt in ground_truth if gt['label_id'] != 80]\n",
    "            predictions = [pred for pred in predictions if pred['label_id'] != 80]\n",
    "    tp, fp = compute_tp_fp(predictions, ground_truth)\n",
    "    \n",
    "    # Calculate precision\n",
    "    precision = tp / (tp + fp) if (tp + fp) > 0 else 0\n",
    "    return precision\n",
    "    \n",
    "\n",
    "def get_recall(predictions, ground_truth, iou_threshold=0.1, unknown=True):\n",
    "    \"\"\"Compute recall for the ensemble predictions.\"\"\"\n",
    "    if unknown is not None:\n",
    "        if unknown:\n",
    "            ground_truth = [gt for gt in ground_truth if gt['label_id'] == 80]\n",
    "            predictions = [pred for pred in predictions if pred['label_id'] == 80]\n",
    "        else: \n",
    "            ground_truth = [gt for gt in ground_truth if gt['label_id'] != 80]\n",
    "            predictions = [pred for pred in predictions if pred['label_id'] != 80]\n",
    "            \n",
    "    tp, fp = compute_tp_fp(predictions, ground_truth, iou_threshold)\n",
    "    fn = len(ground_truth) - tp\n",
    "    \n",
    "    recall = tp / (tp + fn) if (tp + fn) > 0 else 0\n",
    "    \n",
    "    return recall\n"
   ]
  },
  {
   "cell_type": "code",
   "execution_count": 31,
   "id": "029430d5-3b8d-44c8-bb42-ffb5ec3ead94",
   "metadata": {},
   "outputs": [
    {
     "name": "stdout",
     "output_type": "stream",
     "text": [
      "4952\n"
     ]
    }
   ],
   "source": [
    "import os\n",
    "\n",
    "directory_path = \"output/from_dataset/filtered_unknown/SOWODB_backup/\"\n",
    "\n",
    "# List all files in the directory\n",
    "all_files = os.listdir(directory_path)\n",
    "\n",
    "# Filter the files based on the desired suffix\n",
    "files = [f.split(\"_\")[0] for f in all_files if f.endswith(\"t1.pth.txt\")]\n",
    "\n",
    "print(len(files))\n"
   ]
  },
  {
   "cell_type": "code",
   "execution_count": 34,
   "id": "788d9a01-36e8-4e3f-8954-fbeaa6f336b8",
   "metadata": {},
   "outputs": [
    {
     "ename": "AttributeError",
     "evalue": "'NoneType' object has no attribute 'group'",
     "output_type": "error",
     "traceback": [
      "\u001b[0;31m---------------------------------------------------------------------------\u001b[0m",
      "\u001b[0;31mAttributeError\u001b[0m                            Traceback (most recent call last)",
      "Cell \u001b[0;32mIn[34], line 39\u001b[0m\n\u001b[1;32m     35\u001b[0m     \u001b[38;5;28;01mreturn\u001b[39;00m {\u001b[38;5;124m'\u001b[39m\u001b[38;5;124mbbox\u001b[39m\u001b[38;5;124m'\u001b[39m: bbox, \u001b[38;5;124m'\u001b[39m\u001b[38;5;124mlabel\u001b[39m\u001b[38;5;124m'\u001b[39m: label, \u001b[38;5;124m'\u001b[39m\u001b[38;5;124mlabel_id\u001b[39m\u001b[38;5;124m'\u001b[39m: label_id, \u001b[38;5;124m'\u001b[39m\u001b[38;5;124mprob\u001b[39m\u001b[38;5;124m'\u001b[39m: prob}\n\u001b[1;32m     38\u001b[0m \u001b[38;5;66;03m# Parsing the data again\u001b[39;00m\n\u001b[0;32m---> 39\u001b[0m parsed_data \u001b[38;5;241m=\u001b[39m {key: [parse_data_line(line) \u001b[38;5;28;01mfor\u001b[39;00m line \u001b[38;5;129;01min\u001b[39;00m value[:\u001b[38;5;241m-\u001b[39m\u001b[38;5;241m1\u001b[39m]] \u001b[38;5;28;01mfor\u001b[39;00m key, value \u001b[38;5;129;01min\u001b[39;00m data\u001b[38;5;241m.\u001b[39mitems()}\n\u001b[1;32m     40\u001b[0m unknown_recall\u001b[38;5;241m.\u001b[39mappend(get_recall(parsed_data[\u001b[38;5;124m'\u001b[39m\u001b[38;5;124mmodel_1\u001b[39m\u001b[38;5;124m'\u001b[39m], parsed_data[\u001b[38;5;124m'\u001b[39m\u001b[38;5;124mground_truth\u001b[39m\u001b[38;5;124m'\u001b[39m], unknown\u001b[38;5;241m=\u001b[39m\u001b[38;5;28;01mTrue\u001b[39;00m))\n\u001b[1;32m     41\u001b[0m known_precision\u001b[38;5;241m.\u001b[39mappend(get_precision(parsed_data[\u001b[38;5;124m'\u001b[39m\u001b[38;5;124mmodel_1\u001b[39m\u001b[38;5;124m'\u001b[39m], parsed_data[\u001b[38;5;124m'\u001b[39m\u001b[38;5;124mground_truth\u001b[39m\u001b[38;5;124m'\u001b[39m], unknown\u001b[38;5;241m=\u001b[39m\u001b[38;5;28;01mFalse\u001b[39;00m))\n",
      "Cell \u001b[0;32mIn[34], line 39\u001b[0m, in \u001b[0;36m<dictcomp>\u001b[0;34m(.0)\u001b[0m\n\u001b[1;32m     35\u001b[0m     \u001b[38;5;28;01mreturn\u001b[39;00m {\u001b[38;5;124m'\u001b[39m\u001b[38;5;124mbbox\u001b[39m\u001b[38;5;124m'\u001b[39m: bbox, \u001b[38;5;124m'\u001b[39m\u001b[38;5;124mlabel\u001b[39m\u001b[38;5;124m'\u001b[39m: label, \u001b[38;5;124m'\u001b[39m\u001b[38;5;124mlabel_id\u001b[39m\u001b[38;5;124m'\u001b[39m: label_id, \u001b[38;5;124m'\u001b[39m\u001b[38;5;124mprob\u001b[39m\u001b[38;5;124m'\u001b[39m: prob}\n\u001b[1;32m     38\u001b[0m \u001b[38;5;66;03m# Parsing the data again\u001b[39;00m\n\u001b[0;32m---> 39\u001b[0m parsed_data \u001b[38;5;241m=\u001b[39m {key: [parse_data_line(line) \u001b[38;5;28;01mfor\u001b[39;00m line \u001b[38;5;129;01min\u001b[39;00m value[:\u001b[38;5;241m-\u001b[39m\u001b[38;5;241m1\u001b[39m]] \u001b[38;5;28;01mfor\u001b[39;00m key, value \u001b[38;5;129;01min\u001b[39;00m data\u001b[38;5;241m.\u001b[39mitems()}\n\u001b[1;32m     40\u001b[0m unknown_recall\u001b[38;5;241m.\u001b[39mappend(get_recall(parsed_data[\u001b[38;5;124m'\u001b[39m\u001b[38;5;124mmodel_1\u001b[39m\u001b[38;5;124m'\u001b[39m], parsed_data[\u001b[38;5;124m'\u001b[39m\u001b[38;5;124mground_truth\u001b[39m\u001b[38;5;124m'\u001b[39m], unknown\u001b[38;5;241m=\u001b[39m\u001b[38;5;28;01mTrue\u001b[39;00m))\n\u001b[1;32m     41\u001b[0m known_precision\u001b[38;5;241m.\u001b[39mappend(get_precision(parsed_data[\u001b[38;5;124m'\u001b[39m\u001b[38;5;124mmodel_1\u001b[39m\u001b[38;5;124m'\u001b[39m], parsed_data[\u001b[38;5;124m'\u001b[39m\u001b[38;5;124mground_truth\u001b[39m\u001b[38;5;124m'\u001b[39m], unknown\u001b[38;5;241m=\u001b[39m\u001b[38;5;28;01mFalse\u001b[39;00m))\n",
      "Cell \u001b[0;32mIn[34], line 39\u001b[0m, in \u001b[0;36m<listcomp>\u001b[0;34m(.0)\u001b[0m\n\u001b[1;32m     35\u001b[0m     \u001b[38;5;28;01mreturn\u001b[39;00m {\u001b[38;5;124m'\u001b[39m\u001b[38;5;124mbbox\u001b[39m\u001b[38;5;124m'\u001b[39m: bbox, \u001b[38;5;124m'\u001b[39m\u001b[38;5;124mlabel\u001b[39m\u001b[38;5;124m'\u001b[39m: label, \u001b[38;5;124m'\u001b[39m\u001b[38;5;124mlabel_id\u001b[39m\u001b[38;5;124m'\u001b[39m: label_id, \u001b[38;5;124m'\u001b[39m\u001b[38;5;124mprob\u001b[39m\u001b[38;5;124m'\u001b[39m: prob}\n\u001b[1;32m     38\u001b[0m \u001b[38;5;66;03m# Parsing the data again\u001b[39;00m\n\u001b[0;32m---> 39\u001b[0m parsed_data \u001b[38;5;241m=\u001b[39m {key: [\u001b[43mparse_data_line\u001b[49m\u001b[43m(\u001b[49m\u001b[43mline\u001b[49m\u001b[43m)\u001b[49m \u001b[38;5;28;01mfor\u001b[39;00m line \u001b[38;5;129;01min\u001b[39;00m value[:\u001b[38;5;241m-\u001b[39m\u001b[38;5;241m1\u001b[39m]] \u001b[38;5;28;01mfor\u001b[39;00m key, value \u001b[38;5;129;01min\u001b[39;00m data\u001b[38;5;241m.\u001b[39mitems()}\n\u001b[1;32m     40\u001b[0m unknown_recall\u001b[38;5;241m.\u001b[39mappend(get_recall(parsed_data[\u001b[38;5;124m'\u001b[39m\u001b[38;5;124mmodel_1\u001b[39m\u001b[38;5;124m'\u001b[39m], parsed_data[\u001b[38;5;124m'\u001b[39m\u001b[38;5;124mground_truth\u001b[39m\u001b[38;5;124m'\u001b[39m], unknown\u001b[38;5;241m=\u001b[39m\u001b[38;5;28;01mTrue\u001b[39;00m))\n\u001b[1;32m     41\u001b[0m known_precision\u001b[38;5;241m.\u001b[39mappend(get_precision(parsed_data[\u001b[38;5;124m'\u001b[39m\u001b[38;5;124mmodel_1\u001b[39m\u001b[38;5;124m'\u001b[39m], parsed_data[\u001b[38;5;124m'\u001b[39m\u001b[38;5;124mground_truth\u001b[39m\u001b[38;5;124m'\u001b[39m], unknown\u001b[38;5;241m=\u001b[39m\u001b[38;5;28;01mFalse\u001b[39;00m))\n",
      "Cell \u001b[0;32mIn[34], line 31\u001b[0m, in \u001b[0;36mparse_data_line\u001b[0;34m(line)\u001b[0m\n\u001b[1;32m     29\u001b[0m \u001b[38;5;28;01mdef\u001b[39;00m \u001b[38;5;21mparse_data_line\u001b[39m(line):\n\u001b[1;32m     30\u001b[0m     \u001b[38;5;124;03m\"\"\"Parse a line from the data files to extract bounding box, label, ID, and probability.\"\"\"\u001b[39;00m\n\u001b[0;32m---> 31\u001b[0m     bbox \u001b[38;5;241m=\u001b[39m parse_bbox(\u001b[43mre\u001b[49m\u001b[38;5;241;43m.\u001b[39;49m\u001b[43msearch\u001b[49m\u001b[43m(\u001b[49m\u001b[38;5;124;43mr\u001b[39;49m\u001b[38;5;124;43m'\u001b[39;49m\u001b[38;5;124;43mtensor\u001b[39;49m\u001b[38;5;124;43m\\\u001b[39;49m\u001b[38;5;124;43m((.*?)\u001b[39;49m\u001b[38;5;124;43m\\\u001b[39;49m\u001b[38;5;124;43m)\u001b[39;49m\u001b[38;5;124;43m'\u001b[39;49m\u001b[43m,\u001b[49m\u001b[43m \u001b[49m\u001b[43mline\u001b[49m\u001b[43m)\u001b[49m\u001b[38;5;241;43m.\u001b[39;49m\u001b[43mgroup\u001b[49m(\u001b[38;5;241m0\u001b[39m))\n\u001b[1;32m     32\u001b[0m     label \u001b[38;5;241m=\u001b[39m re\u001b[38;5;241m.\u001b[39msearch(\u001b[38;5;124mr\u001b[39m\u001b[38;5;124m'\u001b[39m\u001b[38;5;124mLABEL: (.*?)(?: \u001b[39m\u001b[38;5;124m\\\u001b[39m\u001b[38;5;124m(|$)\u001b[39m\u001b[38;5;124m'\u001b[39m, line)\u001b[38;5;241m.\u001b[39mgroup(\u001b[38;5;241m1\u001b[39m)\n\u001b[1;32m     33\u001b[0m     label_id \u001b[38;5;241m=\u001b[39m \u001b[38;5;28mint\u001b[39m(re\u001b[38;5;241m.\u001b[39msearch(\u001b[38;5;124mr\u001b[39m\u001b[38;5;124m'\u001b[39m\u001b[38;5;124mID: (\u001b[39m\u001b[38;5;124m\\\u001b[39m\u001b[38;5;124md+)\u001b[39m\u001b[38;5;124m'\u001b[39m, line)\u001b[38;5;241m.\u001b[39mgroup(\u001b[38;5;241m1\u001b[39m))\n",
      "\u001b[0;31mAttributeError\u001b[0m: 'NoneType' object has no attribute 'group'"
     ]
    }
   ],
   "source": [
    "unknown_recall = []\n",
    "known_precision = []\n",
    "general_recall = []\n",
    "general_precision = []\n",
    "\n",
    "for filename in files:\n",
    "    filepaths = {\n",
    "    \"ground_truth\": f\"output/from_dataset/filtered_unknown/SOWODB_backup/{filename}_gt.txt\",\n",
    "    \"model_1\": f\"output/from_dataset/filtered_unknown/SOWODB_backup/{filename}_t1.pth.txt\",\n",
    "    }\n",
    "    # Storing the data from each file in a dictionary\n",
    "    data = {}\n",
    "    for key, filepath in filepaths.items():\n",
    "        with open(filepath, \"r\") as file:\n",
    "            data[key] = file.readlines()\n",
    "    \n",
    "    h, w = map(int, data[\"ground_truth\"][-1].strip().split(\": \")[1].split(\", \"))\n",
    "    \n",
    "    # Displaying the first few lines of each file to understand the data format\n",
    "    sample_data = {key: value[:5] for key, value in data.items()}\n",
    "    import re\n",
    "    import torch\n",
    "    \n",
    "    def parse_bbox(tensor_string):\n",
    "        \"\"\"Parse tensor string to extract bounding box coordinates.\"\"\"\n",
    "        coords = list(map(float, re.findall(r'([-+]?\\d*\\.\\d+e[+-]?\\d+|[-+]?\\d*\\.\\d+|[-+]?\\d+)', tensor_string)))\n",
    "        return torch.tensor(coords)\n",
    "    \n",
    "    def parse_data_line(line):\n",
    "        \"\"\"Parse a line from the data files to extract bounding box, label, ID, and probability.\"\"\"\n",
    "        bbox = parse_bbox(re.search(r'tensor\\((.*?)\\)', line).group(0))\n",
    "        label = re.search(r'LABEL: (.*?)(?: \\(|$)', line).group(1)\n",
    "        label_id = int(re.search(r'ID: (\\d+)', line).group(1))\n",
    "        prob = float(re. search(r'PROB: (.+)', line).group(1))\n",
    "        return {'bbox': bbox, 'label': label, 'label_id': label_id, 'prob': prob}\n",
    "    \n",
    "    \n",
    "    # Parsing the data again\n",
    "    parsed_data = {key: [parse_data_line(line) for line in value[:-1]] for key, value in data.items()}\n",
    "    unknown_recall.append(get_recall(parsed_data['model_1'], parsed_data['ground_truth'], unknown=True))\n",
    "    known_precision.append(get_precision(parsed_data['model_1'], parsed_data['ground_truth'], unknown=False))\n",
    "    # general_recall.append(get_recall(parsed_data['model_1'], parsed_data['ground_truth'], unknown=None))\n",
    "    # general_precision.append(get_precision(parsed_data['model_1'], parsed_data['ground_truth'], unknown=None))\n"
   ]
  },
  {
   "cell_type": "code",
   "execution_count": 35,
   "id": "8df05d26-93f6-4e3e-ba0a-1a52ca32547a",
   "metadata": {},
   "outputs": [
    {
     "data": {
      "text/plain": [
       "{'ground_truth': ['BBOX: tensor([114.5540, 729.9828, 362.4413, 990.8251]), LABEL: dog (ID: 8), PROB: 1.0\\n',\n",
       "  'BBOX: tensor([ 632.8638,  703.7109,  790.6103, 1000.2078]), LABEL: unknown (ID: 80), PROB: 1.0\\n',\n",
       "  'BBOX: tensor([118.3099, 439.1156, 144.6009, 506.6718]), LABEL: unknown (ID: 80), PROB: 1.0\\n',\n",
       "  'BBOX: tensor([330.5164, 576.1047, 362.4413, 681.1922]), LABEL: unknown (ID: 80), PROB: 1.0\\n',\n",
       "  'BBOX: tensor([ 176.5258,  495.4125,  800.0000, 1182.2344]), LABEL: unknown (ID: 80), PROB: 1.0\\n',\n",
       "  'BBOX: tensor([210.3286, 489.7828, 366.1972, 658.6734]), LABEL: unknown (ID: 80), PROB: 1.0\\n',\n",
       "  'BBOX: tensor([202.8169, 395.9547, 292.9577, 534.8204]), LABEL: person (ID: 18), PROB: 1.0\\n',\n",
       "  'BBOX: tensor([561.5023, 482.2766, 584.0375, 499.1656]), LABEL: unknown (ID: 80), PROB: 1.0\\n',\n",
       "  'BBOX: tensor([550.2347, 425.9797, 593.4272, 510.4250]), LABEL: unknown (ID: 80), PROB: 1.0\\n',\n",
       "  'BBOX: tensor([582.1596, 469.1406, 629.1080, 517.9312]), LABEL: unknown (ID: 80), PROB: 1.0\\n',\n",
       "  'BBOX: tensor([294.8357, 349.0406, 345.5399, 499.1656]), LABEL: unknown (ID: 80), PROB: 1.0\\n',\n",
       "  'BBOX: tensor([632.8639, 636.1547, 657.2770, 683.0687]), LABEL: unknown (ID: 80), PROB: 1.0\\n',\n",
       "  'BBOX: tensor([364.3192, 857.5891, 655.3990, 998.3312]), LABEL: unknown (ID: 80), PROB: 1.0\\n',\n",
       "  'BBOX: tensor([552.1127, 656.7968, 612.2065, 699.9578]), LABEL: unknown (ID: 80), PROB: 1.0\\n',\n",
       "  'BBOX: tensor([ 84.5070, 459.7578, 255.3990, 606.1297]), LABEL: unknown (ID: 80), PROB: 1.0\\n',\n",
       "  'BBOX: tensor([ 97.6526, 435.3625, 125.8216, 502.9187]), LABEL: unknown (ID: 80), PROB: 1.0\\n',\n",
       "  'BBOX: tensor([ 497.6525, 1013.3438,  582.1596, 1150.3328]), LABEL: unknown (ID: 80), PROB: 1.0\\n',\n",
       "  'BBOX: tensor([324.8826, 356.5469, 362.4413, 440.9922]), LABEL: unknown (ID: 80), PROB: 1.0\\n',\n",
       "  'BBOX: tensor([338.0282, 189.5328, 691.0798, 836.9468]), LABEL: person (ID: 18), PROB: 1.0\\n',\n",
       "  'BBOX: tensor([ 553.9906,  990.8250,  696.7136, 1191.6171]), LABEL: unknown (ID: 80), PROB: 1.0\\n',\n",
       "  'BBOX: tensor([244.1315, 517.9313, 276.0563, 532.9437]), LABEL: unknown (ID: 80), PROB: 1.0\\n',\n",
       "  'BBOX: tensor([644.1313, 709.3406, 677.9343, 728.1063]), LABEL: unknown (ID: 80), PROB: 1.0\\n',\n",
       "  'BBOX: tensor([313.6150, 538.5734, 353.0516, 557.3391]), LABEL: unknown (ID: 80), PROB: 1.0\\n',\n",
       "  'BBOX: tensor([291.0798, 197.0391, 413.1455, 474.7703]), LABEL: unknown (ID: 80), PROB: 1.0\\n',\n",
       "  'BBOX: tensor([  0.0000, 514.1781, 185.9155, 741.2422]), LABEL: unknown (ID: 80), PROB: 1.0\\n',\n",
       "  'IMAGE_INFO: 1201, 800\\n'],\n",
       " 'model_1': ['BBOX: tensor([561.3162,   1.0455, 634.3266,  23.7536]), LABEL: unknown (ID: 80), PROB: 0.9992606043815613\\n',\n",
       "  'BBOX: tensor([256.7606,  -0.9830, 331.9030,   4.8352]), LABEL: unknown (ID: 80), PROB: 0.9990336894989014\\n',\n",
       "  'BBOX: tensor([215.9359,  24.0807, 302.8773, 106.9033]), LABEL: unknown (ID: 80), PROB: 0.9989965558052063\\n',\n",
       "  'BBOX: tensor([ -6.1698,  46.2215,  82.7785, 140.2849]), LABEL: unknown (ID: 80), PROB: 0.9989960789680481\\n',\n",
       "  'BBOX: tensor([467.4370,  18.3201, 553.4138, 102.4612]), LABEL: unknown (ID: 80), PROB: 0.9989956021308899\\n',\n",
       "  'BBOX: tensor([-40.2216,  93.0211,  63.5332, 218.1079]), LABEL: unknown (ID: 80), PROB: 0.9989839196205139\\n',\n",
       "  'BBOX: tensor([389.4550,  -0.5045, 469.5471,   3.8447]), LABEL: unknown (ID: 80), PROB: 0.9989462494850159\\n',\n",
       "  'BBOX: tensor([ 160.6137,  866.3125,  618.4410, 1221.5449]), LABEL: unknown (ID: 80), PROB: 0.9986757636070251\\n',\n",
       "  'BBOX: tensor([ 355.6070, 1035.1382,  513.0566, 1155.8784]), LABEL: unknown (ID: 80), PROB: 0.9986149072647095\\n',\n",
       "  'BBOX: tensor([345.6749,  27.5443, 495.2460,  81.9575]), LABEL: unknown (ID: 80), PROB: 0.9984409213066101\\n',\n",
       "  'BBOX: tensor([ -35.1752,  464.9973,   76.5286, 1317.8802]), LABEL: unknown (ID: 80), PROB: 0.9983761310577393\\n',\n",
       "  'BBOX: tensor([573.9900,  13.9525, 723.1715,  48.9584]), LABEL: unknown (ID: 80), PROB: 0.9982561469078064\\n',\n",
       "  'BBOX: tensor([107.1660,   0.8849, 233.7303,  15.2156]), LABEL: unknown (ID: 80), PROB: 0.9981738328933716\\n',\n",
       "  'BBOX: tensor([ -40.9338, 1085.3611,   71.8473, 1191.9307]), LABEL: unknown (ID: 80), PROB: 0.997983455657959\\n',\n",
       "  'BBOX: tensor([  59.2609,  617.8356,  331.0444, 1334.9629]), LABEL: unknown (ID: 80), PROB: 0.99796462059021\\n',\n",
       "  'BBOX: tensor([ 431.8815,  802.2947,  575.8986, 1017.6746]), LABEL: unknown (ID: 80), PROB: 0.9976468682289124\\n',\n",
       "  'BBOX: tensor([ 352.7830, 1169.4041,  620.8549, 1200.6130]), LABEL: unknown (ID: 80), PROB: 0.9972853660583496\\n',\n",
       "  'BBOX: tensor([295.6059, 376.2285, 347.6716, 494.2899]), LABEL: unknown (ID: 80), PROB: 0.9684399962425232\\n',\n",
       "  'BBOX: tensor([202.8971, 398.0214, 285.9326, 517.6238]), LABEL: unknown (ID: 80), PROB: 0.9679982662200928\\n',\n",
       "  'BBOX: tensor([ 705.6887,  442.1741,  803.3073, 1156.8086]), LABEL: unknown (ID: 80), PROB: 0.9354406595230103\\n',\n",
       "  'BBOX: tensor([ 763.8166,  329.4477,  801.4908, 1177.4446]), LABEL: unknown (ID: 80), PROB: 0.9335050582885742\\n',\n",
       "  '<<<<<<< HEAD\\n',\n",
       "  'BBOX: tensor([ 605.4763, 1128.1965,  797.3272, 1204.1521]), LABEL: unknown (ID: 80), PROB: 0.9154607653617859\\n',\n",
       "  'BBOX: tensor([331.3566, 180.4549, 693.5103, 827.8361]), LABEL: person (ID: 18), PROB: 0.9128665328025818\\n',\n",
       "  'BBOX: tensor([110.6423, 726.1158, 366.2641, 992.6505]), LABEL: dog (ID: 8), PROB: 0.8723682165145874\\n',\n",
       "  'BBOX: tensor([ 746.7389,  911.5001,  802.9599, 1185.9404]), LABEL: unknown (ID: 80), PROB: 0.8624326586723328\\n',\n",
       "  '=======\\n',\n",
       "  'BBOX: tensor([331.3566, 180.4549, 693.5103, 827.8361]), LABEL: person (ID: 18), PROB: 0.9128665328025818\\n',\n",
       "  'BBOX: tensor([110.6423, 726.1158, 366.2641, 992.6505]), LABEL: dog (ID: 8), PROB: 0.8723682165145874\\n',\n",
       "  'BBOX: tensor([ 645.5425, 1008.4184,  805.2426, 1204.6472]), LABEL: unknown (ID: 80), PROB: 0.768994152545929\\n',\n",
       "  'BBOX: tensor([ 746.6568, 1011.6063,  801.2689, 1197.0959]), LABEL: unknown (ID: 80), PROB: 0.7541286945343018\\n',\n",
       "  '>>>>>>> 9ca6bb8af359c87ec4cfb926402695ee7b32ab77\\n',\n",
       "  'IMAGE_INFO: 1201, 800\\n']}"
      ]
     },
     "execution_count": 35,
     "metadata": {},
     "output_type": "execute_result"
    }
   ],
   "source": [
    "data"
   ]
  },
  {
   "cell_type": "code",
   "execution_count": 29,
   "id": "30a4d5da-76d2-4fca-a551-a7026377b2aa",
   "metadata": {},
   "outputs": [
    {
     "name": "stdout",
     "output_type": "stream",
     "text": [
      "0.14416783837650218\n",
      "0.5043838308074982\n",
      "0.36729391147968204\n",
      "0.2782444016626013\n"
     ]
    }
   ],
   "source": [
    "def mean(lst): \n",
    "    return sum(lst) / len(lst) \n",
    " \n",
    "# Driver Code \n",
    "print(mean(unknown_recall))\n",
    "print(mean(known_precision))\n",
    "print(mean(general_recall))\n",
    "print(mean(general_precision))"
   ]
  },
  {
   "cell_type": "markdown",
   "id": "2d2e9640-b559-4dbe-b6bc-6c289ec2070d",
   "metadata": {},
   "source": [
    "# evaluation"
   ]
  },
  {
   "cell_type": "code",
   "execution_count": null,
   "id": "906d3301-f3fb-47fc-9bd1-d48118b3a828",
   "metadata": {},
   "outputs": [],
   "source": []
  },
  {
   "cell_type": "code",
   "execution_count": 22,
   "id": "744ecc88-5ee8-4c75-ad79-063027d0aed7",
   "metadata": {},
   "outputs": [],
   "source": [
    "import pandas as pd\n",
    "ground_truth = pd.read_csv(\"./csv/bbox_data_scaled_gt.csv\")\n",
    "prob_opt_prediction = pd.read_csv(\"./csv/bbox_data_scaled_opt.csv\")\n",
    "prob_prediction = pd.read_csv(\"./csv/bbox_data_scaled.csv\")\n",
    "custom_01_prediction = pd.read_csv(\"./csv/bbox_epistemic_prediction_0.01.csv\")\n",
    "custom_03_prediction = pd.read_csv(\"./csv/bbox_epistemic_prediction_0.03.csv\")\n",
    "custom_05_prediction = pd.read_csv(\"./csv/bbox_epistemic_prediction_0.05.csv\")\n"
   ]
  },
  {
   "cell_type": "code",
   "execution_count": 23,
   "id": "c27b1bce-ebbf-4b90-9c5e-c428633c65f7",
   "metadata": {},
   "outputs": [],
   "source": [
    "import itertools\n",
    "\n",
    "#OWOD splits\n",
    "VOC_CLASS_NAMES_COCOFIED = [\n",
    "    \"airplane\",  \"dining table\", \"motorcycle\",\n",
    "    \"potted plant\", \"couch\", \"tv\"\n",
    "]\n",
    "\n",
    "BASE_VOC_CLASS_NAMES = [\n",
    "    \"aeroplane\", \"diningtable\", \"motorbike\",\n",
    "    \"pottedplant\",  \"sofa\", \"tvmonitor\"\n",
    "]\n",
    "UNK_CLASS = [\"unknown\"]\n",
    "\n",
    "VOC_COCO_CLASS_NAMES={}\n",
    "\n",
    "\n",
    "T1_CLASS_NAMES = [\n",
    "    \"aeroplane\",\"bicycle\",\"bird\",\"boat\",\"bus\",\"car\",\n",
    "    \"cat\",\"cow\",\"dog\",\"horse\",\"motorbike\",\"sheep\",\"train\",\n",
    "    \"elephant\",\"bear\",\"zebra\",\"giraffe\",\"truck\",\"person\"\n",
    "]\n",
    "\n",
    "T2_CLASS_NAMES = [\n",
    "    \"traffic light\",\"fire hydrant\",\"stop sign\",\n",
    "    \"parking meter\",\"bench\",\"chair\",\"diningtable\",\n",
    "    \"pottedplant\",\"backpack\",\"umbrella\",\"handbag\",\n",
    "    \"tie\",\"suitcase\",\"microwave\",\"oven\",\"toaster\",\"sink\",\n",
    "    \"refrigerator\",\"bed\",\"toilet\",\"sofa\"\n",
    "]\n",
    "\n",
    "T3_CLASS_NAMES = [\n",
    "    \"frisbee\",\"skis\",\"snowboard\",\"sports ball\",\n",
    "    \"kite\",\"baseball bat\",\"baseball glove\",\"skateboard\",\n",
    "    \"surfboard\",\"tennis racket\",\"banana\",\"apple\",\"sandwich\",\n",
    "    \"orange\",\"broccoli\",\"carrot\",\"hot dog\",\"pizza\",\"donut\",\"cake\"\n",
    "]\n",
    "\n",
    "T4_CLASS_NAMES = [\n",
    "    \"laptop\",\"mouse\",\"remote\",\"keyboard\",\"cell phone\",\"book\",\n",
    "    \"clock\",\"vase\",\"scissors\",\"teddy bear\",\"hair drier\",\"toothbrush\",\n",
    "    \"wine glass\",\"cup\",\"fork\",\"knife\",\"spoon\",\"bowl\",\"tvmonitor\",\"bottle\"\n",
    "]\n",
    "\n",
    "VOC_COCO_CLASS_NAMES[\"OWDETR\"] = tuple(itertools.chain(T1_CLASS_NAMES, T2_CLASS_NAMES, T3_CLASS_NAMES, T4_CLASS_NAMES, UNK_CLASS))\n",
    "\n",
    "\n",
    "VOC_CLASS_NAMES = [\n",
    "\"aeroplane\", \"bicycle\", \"bird\", \"boat\", \"bottle\", \"bus\", \"car\", \"cat\",\n",
    "\"chair\", \"cow\", \"diningtable\", \"dog\", \"horse\", \"motorbike\", \"person\",\n",
    "\"pottedplant\", \"sheep\", \"sofa\", \"train\", \"tvmonitor\"\n",
    "]\n",
    "\n",
    "VOC_CLASS_NAMES_COCOFIED = [\n",
    "    \"airplane\",  \"dining table\", \"motorcycle\",\n",
    "    \"potted plant\", \"couch\", \"tv\"\n",
    "]\n",
    "\n",
    "BASE_VOC_CLASS_NAMES = [\n",
    "    \"aeroplane\", \"diningtable\", \"motorbike\",\n",
    "    \"pottedplant\",  \"sofa\", \"tvmonitor\"\n",
    "]\n",
    "\n",
    "T2_CLASS_NAMES = [\n",
    "    \"truck\", \"traffic light\", \"fire hydrant\", \"stop sign\", \"parking meter\",\n",
    "    \"bench\", \"elephant\", \"bear\", \"zebra\", \"giraffe\",\n",
    "    \"backpack\", \"umbrella\", \"handbag\", \"tie\", \"suitcase\",\n",
    "    \"microwave\", \"oven\", \"toaster\", \"sink\", \"refrigerator\"\n",
    "]\n",
    "\n",
    "T3_CLASS_NAMES = [\n",
    "    \"frisbee\", \"skis\", \"snowboard\", \"sports ball\", \"kite\",\n",
    "    \"baseball bat\", \"baseball glove\", \"skateboard\", \"surfboard\", \"tennis racket\",\n",
    "    \"banana\", \"apple\", \"sandwich\", \"orange\", \"broccoli\",\n",
    "    \"carrot\", \"hot dog\", \"pizza\", \"donut\", \"cake\"\n",
    "]\n",
    "\n",
    "T4_CLASS_NAMES = [\n",
    "    \"bed\", \"toilet\", \"laptop\", \"mouse\",\n",
    "    \"remote\", \"keyboard\", \"cell phone\", \"book\", \"clock\",\n",
    "    \"vase\", \"scissors\", \"teddy bear\", \"hair drier\", \"toothbrush\",\n",
    "    \"wine glass\", \"cup\", \"fork\", \"knife\", \"spoon\", \"bowl\"\n",
    "]\n",
    "VOC_COCO_CLASS_NAMES[\"TOWOD\"] = tuple(itertools.chain(VOC_CLASS_NAMES, T2_CLASS_NAMES, T3_CLASS_NAMES, T4_CLASS_NAMES, UNK_CLASS))\n",
    "VOC_COCO_CLASS_NAMES[\"VOC2007\"] = tuple(itertools.chain(VOC_CLASS_NAMES, T2_CLASS_NAMES, T3_CLASS_NAMES, T4_CLASS_NAMES, UNK_CLASS))\n",
    "\n"
   ]
  },
  {
   "cell_type": "code",
   "execution_count": 24,
   "id": "eafc674b-79b3-4474-9501-202c29c0f6f6",
   "metadata": {},
   "outputs": [
    {
     "data": {
      "text/html": [
       "<div>\n",
       "<style scoped>\n",
       "    .dataframe tbody tr th:only-of-type {\n",
       "        vertical-align: middle;\n",
       "    }\n",
       "\n",
       "    .dataframe tbody tr th {\n",
       "        vertical-align: top;\n",
       "    }\n",
       "\n",
       "    .dataframe thead th {\n",
       "        text-align: right;\n",
       "    }\n",
       "</style>\n",
       "<table border=\"1\" class=\"dataframe\">\n",
       "  <thead>\n",
       "    <tr style=\"text-align: right;\">\n",
       "      <th></th>\n",
       "      <th>img_name</th>\n",
       "      <th>x_min</th>\n",
       "      <th>y_min</th>\n",
       "      <th>x_max</th>\n",
       "      <th>y_max</th>\n",
       "      <th>label</th>\n",
       "      <th>prob</th>\n",
       "    </tr>\n",
       "  </thead>\n",
       "  <tbody>\n",
       "  </tbody>\n",
       "</table>\n",
       "</div>"
      ],
      "text/plain": [
       "Empty DataFrame\n",
       "Columns: [img_name, x_min, y_min, x_max, y_max, label, prob]\n",
       "Index: []"
      ]
     },
     "execution_count": 24,
     "metadata": {},
     "output_type": "execute_result"
    }
   ],
   "source": [
    "gt_data = ground_truth#[ground_truth['label']!='unknown']\n",
    "pred_data = prob_opt_prediction#[custom_01_prediction['label']!='unknown']\n",
    "pred_data"
   ]
  },
  {
   "cell_type": "code",
   "execution_count": 21,
   "id": "f348755e-f4f3-43c7-869f-ec7d5f616b21",
   "metadata": {
    "scrolled": true
   },
   "outputs": [
    {
     "name": "stdout",
     "output_type": "stream",
     "text": [
      "aeroplane has 4464 predictions.\n",
      "bicycle has 1476 predictions.\n",
      "bird has 1416 predictions.\n",
      "boat has 2004 predictions.\n",
      "bus has 6178 predictions.\n",
      "car has 1490 predictions.\n",
      "cat has 7236 predictions.\n",
      "cow has 4168 predictions.\n",
      "dog has 8804 predictions.\n",
      "horse has 1256 predictions.\n",
      "motorbike has 3234 predictions.\n",
      "sheep has 2660 predictions.\n",
      "train has 1514 predictions.\n",
      "elephant has 978 predictions.\n",
      "bear has 83532 predictions.\n",
      "zebra has 3140 predictions.\n",
      "giraffe has 912 predictions.\n",
      "truck has 2949 predictions.\n",
      "person has 588 predictions.\n",
      "traffic light has 2652 predictions.\n"
     ]
    },
    {
     "name": "stderr",
     "output_type": "stream",
     "text": [
      "/home/cheny63/experiment/PROB/datasets/open_world_eval.py:436: RuntimeWarning: invalid value encountered in divide\n",
      "  rec = tp / float(npos)\n"
     ]
    },
    {
     "name": "stdout",
     "output_type": "stream",
     "text": [
      "fire hydrant has 0 predictions.\n",
      "stop sign has 0 predictions.\n",
      "parking meter has 0 predictions.\n",
      "bench has 0 predictions.\n",
      "chair has 0 predictions.\n"
     ]
    },
    {
     "ename": "KeyboardInterrupt",
     "evalue": "",
     "output_type": "error",
     "traceback": [
      "\u001b[0;31m---------------------------------------------------------------------------\u001b[0m",
      "\u001b[0;31mKeyboardInterrupt\u001b[0m                         Traceback (most recent call last)",
      "Cell \u001b[0;32mIn[21], line 33\u001b[0m\n\u001b[1;32m     28\u001b[0m ovthresh_ind, _ \u001b[38;5;241m=\u001b[39m \u001b[38;5;28mmap\u001b[39m(\u001b[38;5;28mlist\u001b[39m(\u001b[38;5;28mrange\u001b[39m(\u001b[38;5;241m50\u001b[39m, \u001b[38;5;241m100\u001b[39m, \u001b[38;5;241m5\u001b[39m))\u001b[38;5;241m.\u001b[39mindex, [\u001b[38;5;241m50\u001b[39m, \u001b[38;5;241m75\u001b[39m])\n\u001b[1;32m     30\u001b[0m \u001b[38;5;28mprint\u001b[39m(class_label \u001b[38;5;241m+\u001b[39m \u001b[38;5;124m\"\u001b[39m\u001b[38;5;124m has \u001b[39m\u001b[38;5;124m\"\u001b[39m \u001b[38;5;241m+\u001b[39m \u001b[38;5;28mstr\u001b[39m(\u001b[38;5;28mlen\u001b[39m(detpath)) \u001b[38;5;241m+\u001b[39m \u001b[38;5;124m\"\u001b[39m\u001b[38;5;124m predictions.\u001b[39m\u001b[38;5;124m\"\u001b[39m)\n\u001b[0;32m---> 33\u001b[0m rec, prec, AP[class_label_ind, ovthresh_ind], unk_det_as_known, num_unk, tp_plus_fp_closed_set,fp_open_set \u001b[38;5;241m=\u001b[39m (\u001b[43mvoc_eval\u001b[49m\u001b[43m(\u001b[49m\u001b[43mdetpath\u001b[49m\u001b[43m,\u001b[49m\n\u001b[1;32m     34\u001b[0m \u001b[43m         \u001b[49m\u001b[43mannopath\u001b[49m\u001b[43m,\u001b[49m\n\u001b[1;32m     35\u001b[0m \u001b[43m         \u001b[49m\u001b[43mimagesetfile\u001b[49m\u001b[43m,\u001b[49m\n\u001b[1;32m     36\u001b[0m \u001b[43m         \u001b[49m\u001b[43mclass_label\u001b[49m\u001b[43m,\u001b[49m\n\u001b[1;32m     37\u001b[0m \u001b[43m         \u001b[49m\u001b[43movthresh\u001b[49m\u001b[38;5;241;43m=\u001b[39;49m\u001b[38;5;241;43m0.5\u001b[39;49m\u001b[43m,\u001b[49m\n\u001b[1;32m     38\u001b[0m \u001b[43m         \u001b[49m\u001b[43muse_07_metric\u001b[49m\u001b[38;5;241;43m=\u001b[39;49m\u001b[38;5;28;43;01mFalse\u001b[39;49;00m\u001b[43m,\u001b[49m\n\u001b[1;32m     39\u001b[0m \u001b[43m         \u001b[49m\u001b[43mknown_classes\u001b[49m\u001b[38;5;241;43m=\u001b[39;49m\u001b[43mT1_CLASS_NAMES\u001b[49m\u001b[43m)\u001b[49m)\n\u001b[1;32m     41\u001b[0m AP[class_label_ind, ovthresh_ind] \u001b[38;5;241m=\u001b[39m AP[class_label_ind, ovthresh_ind] \u001b[38;5;241m*\u001b[39m \u001b[38;5;241m100\u001b[39m\n\u001b[1;32m     42\u001b[0m all_precs[ovthresh]\u001b[38;5;241m.\u001b[39mappend(prec)\n",
      "File \u001b[0;32m~/experiment/PROB/datasets/open_world_eval.py:456\u001b[0m, in \u001b[0;36mvoc_eval\u001b[0;34m(detpath, annopath, imagesetfile, classname, ovthresh, use_07_metric, known_classes)\u001b[0m\n\u001b[1;32m    454\u001b[0m R \u001b[38;5;241m=\u001b[39m [obj \u001b[38;5;28;01mfor\u001b[39;00m obj \u001b[38;5;129;01min\u001b[39;00m recs[imagename] \u001b[38;5;28;01mif\u001b[39;00m obj[\u001b[38;5;124m\"\u001b[39m\u001b[38;5;124mname\u001b[39m\u001b[38;5;124m\"\u001b[39m] \u001b[38;5;241m==\u001b[39m \u001b[38;5;124m'\u001b[39m\u001b[38;5;124munknown\u001b[39m\u001b[38;5;124m'\u001b[39m]\n\u001b[1;32m    455\u001b[0m bbox \u001b[38;5;241m=\u001b[39m np\u001b[38;5;241m.\u001b[39marray([x[\u001b[38;5;124m\"\u001b[39m\u001b[38;5;124mbbox\u001b[39m\u001b[38;5;124m\"\u001b[39m] \u001b[38;5;28;01mfor\u001b[39;00m x \u001b[38;5;129;01min\u001b[39;00m R])\n\u001b[0;32m--> 456\u001b[0m difficult \u001b[38;5;241m=\u001b[39m \u001b[43mnp\u001b[49m\u001b[38;5;241;43m.\u001b[39;49m\u001b[43marray\u001b[49m\u001b[43m(\u001b[49m\u001b[43m[\u001b[49m\u001b[43mx\u001b[49m\u001b[43m[\u001b[49m\u001b[38;5;124;43m\"\u001b[39;49m\u001b[38;5;124;43mdifficult\u001b[39;49m\u001b[38;5;124;43m\"\u001b[39;49m\u001b[43m]\u001b[49m\u001b[43m \u001b[49m\u001b[38;5;28;43;01mfor\u001b[39;49;00m\u001b[43m \u001b[49m\u001b[43mx\u001b[49m\u001b[43m \u001b[49m\u001b[38;5;129;43;01min\u001b[39;49;00m\u001b[43m \u001b[49m\u001b[43mR\u001b[49m\u001b[43m]\u001b[49m\u001b[43m)\u001b[49m\u001b[38;5;241;43m.\u001b[39;49m\u001b[43mastype\u001b[49m\u001b[43m(\u001b[49m\u001b[43mnp\u001b[49m\u001b[38;5;241;43m.\u001b[39;49m\u001b[43mbool_\u001b[49m\u001b[43m)\u001b[49m\n\u001b[1;32m    457\u001b[0m det \u001b[38;5;241m=\u001b[39m [\u001b[38;5;28;01mFalse\u001b[39;00m] \u001b[38;5;241m*\u001b[39m \u001b[38;5;28mlen\u001b[39m(R)\n\u001b[1;32m    458\u001b[0m n_unk \u001b[38;5;241m=\u001b[39m n_unk \u001b[38;5;241m+\u001b[39m \u001b[38;5;28msum\u001b[39m(\u001b[38;5;241m~\u001b[39mdifficult)\n",
      "\u001b[0;31mKeyboardInterrupt\u001b[0m: "
     ]
    }
   ],
   "source": [
    "from datasets.open_world_eval import voc_eval\n",
    "import torch\n",
    "\n",
    "from collections import OrderedDict, defaultdict\n",
    "\n",
    "num_classes = len(VOC_COCO_CLASS_NAMES[\"OWDETR\"])\n",
    "AP = torch.zeros(num_classes, 1)\n",
    "\n",
    "all_recs = defaultdict(list)\n",
    "all_precs = defaultdict(list)\n",
    "recs = defaultdict(list)\n",
    "precs = defaultdict(list)\n",
    "num_unks = defaultdict(list)\n",
    "unk_det_as_knowns = defaultdict(list)\n",
    "tp_plus_fp_cs = defaultdict(list)\n",
    "fp_os = defaultdict(list)\n",
    "\n",
    "ovthresh = 50\n",
    "\n",
    "for class_label_ind, class_label in enumerate(VOC_COCO_CLASS_NAMES[\"OWDETR\"]):\n",
    "    detpath = [\n",
    "        f'{str(row.img_name).zfill(12)} {row.prob} {row.x_min} {row.y_min} {row.x_max} {row.y_max}\\n'\n",
    "        for index, row in pred_data.iterrows() if row.label == class_label\n",
    "    ]\n",
    "    annopath = [f'/training_data_2/yuetian/OWOD/Annotations/{str(row.img_name).zfill(12)}.xml' for index, row in pred_data.iterrows()]\n",
    "    imagesetfile = [f'{str(row.img_name).zfill(12)}' for index, row in pred_data.iterrows()]\n",
    "    \n",
    "    ovthresh_ind, _ = map(list(range(50, 100, 5)).index, [50, 75])\n",
    "\n",
    "    print(class_label + \" has \" + str(len(detpath)) + \" predictions.\")\n",
    "\n",
    "    \n",
    "    rec, prec, AP[class_label_ind, ovthresh_ind], unk_det_as_known, num_unk, tp_plus_fp_closed_set,fp_open_set = (voc_eval(detpath,\n",
    "             annopath,\n",
    "             imagesetfile,\n",
    "             class_label,\n",
    "             ovthresh=0.5,\n",
    "             use_07_metric=False,\n",
    "             known_classes=T1_CLASS_NAMES))\n",
    "    \n",
    "    AP[class_label_ind, ovthresh_ind] = AP[class_label_ind, ovthresh_ind] * 100\n",
    "    all_precs[ovthresh].append(prec)\n",
    "    num_unks[ovthresh].append(num_unk)\n",
    "    unk_det_as_knowns[ovthresh].append(unk_det_as_known)\n",
    "    tp_plus_fp_cs[ovthresh].append(tp_plus_fp_closed_set)\n",
    "    fp_os[ovthresh].append(fp_open_set)\n",
    "    try:\n",
    "        recs[ovthresh].append(rec[-1] * 100)\n",
    "        precs[ovthresh].append(prec[-1] * 100)\n",
    "    except:\n",
    "        recs[ovthresh].append(0.)\n",
    "        precs[ovthresh].append(0.)\n",
    "    "
   ]
  },
  {
   "cell_type": "code",
   "execution_count": 12,
   "id": "e7ab9dda-4e4e-4e84-a34c-3b006078349d",
   "metadata": {},
   "outputs": [
    {
     "name": "stdout",
     "output_type": "stream",
     "text": [
      "detection mAP50: 0.007192\n",
      "detection mAP: 0.007192\n"
     ]
    }
   ],
   "source": [
    "o50, _ = map(list(range(50, 100, 5)).index, [50, 75])\n",
    "mAP = float(AP.mean())\n",
    "mAP50 = float(AP[:, o50].mean())\n",
    "fmt='{:.06f}'\n",
    "print('detection mAP50:', fmt.format(mAP50))\n",
    "print('detection mAP:', fmt.format(mAP))"
   ]
  },
  {
   "cell_type": "code",
   "execution_count": 13,
   "id": "58326060-fbd2-4b41-847a-d23985065c09",
   "metadata": {},
   "outputs": [
    {
     "name": "stdout",
     "output_type": "stream",
     "text": [
      "Known AP50: tensor(0.0288)\n"
     ]
    }
   ],
   "source": [
    "print(\"Known AP50: \" + str(AP[:, o50][:20].mean()))"
   ]
  },
  {
   "cell_type": "code",
   "execution_count": 7,
   "id": "05314ea7-4c1c-406a-a638-4d8c67d3e74c",
   "metadata": {},
   "outputs": [
    {
     "name": "stdout",
     "output_type": "stream",
     "text": [
      "Unknown Recall50: 0.23175344915713447\n"
     ]
    }
   ],
   "source": [
    "print(\"Unknown Recall50: \" + str(recs[50][-1]))"
   ]
  },
  {
   "cell_type": "code",
   "execution_count": 132,
   "id": "0286064d-43ae-4c91-a05a-4d42c3531e3a",
   "metadata": {},
   "outputs": [
    {
     "data": {
      "text/plain": [
       "array([1., 1., 0.])"
      ]
     },
     "execution_count": 132,
     "metadata": {},
     "output_type": "execute_result"
    }
   ],
   "source": [
    "mpre"
   ]
  },
  {
   "cell_type": "code",
   "execution_count": 11,
   "id": "5d16e5da-88cd-4a49-a664-486937c92058",
   "metadata": {},
   "outputs": [],
   "source": [
    "AP[19] = torch.tensor([0])"
   ]
  },
  {
   "cell_type": "code",
   "execution_count": null,
   "id": "1c0c6869-c831-4b30-b1b0-d356aab7b8e4",
   "metadata": {},
   "outputs": [],
   "source": []
  }
 ],
 "metadata": {
  "kernelspec": {
   "display_name": "prob",
   "language": "python",
   "name": "prob"
  },
  "language_info": {
   "codemirror_mode": {
    "name": "ipython",
    "version": 3
   },
   "file_extension": ".py",
   "mimetype": "text/x-python",
   "name": "python",
   "nbconvert_exporter": "python",
   "pygments_lexer": "ipython3",
   "version": "3.10.4"
  }
 },
 "nbformat": 4,
 "nbformat_minor": 5
}
